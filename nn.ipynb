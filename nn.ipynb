{
 "cells": [
  {
   "cell_type": "code",
   "execution_count": 1,
   "metadata": {},
   "outputs": [],
   "source": [
    "import numpy as np\n",
    "import pandas as pd\n",
    "import matplotlib.pyplot as plt\n",
    "import matplotlib\n",
    "from sklearn.model_selection import train_test_split"
   ]
  },
  {
   "cell_type": "code",
   "execution_count": 4,
   "metadata": {},
   "outputs": [],
   "source": [
    "data = pd.read_csv(\"./train.csv\")"
   ]
  },
  {
   "cell_type": "code",
   "execution_count": 5,
   "metadata": {},
   "outputs": [
    {
     "data": {
      "text/html": [
       "<div>\n",
       "<style scoped>\n",
       "    .dataframe tbody tr th:only-of-type {\n",
       "        vertical-align: middle;\n",
       "    }\n",
       "\n",
       "    .dataframe tbody tr th {\n",
       "        vertical-align: top;\n",
       "    }\n",
       "\n",
       "    .dataframe thead th {\n",
       "        text-align: right;\n",
       "    }\n",
       "</style>\n",
       "<table border=\"1\" class=\"dataframe\">\n",
       "  <thead>\n",
       "    <tr style=\"text-align: right;\">\n",
       "      <th></th>\n",
       "      <th>id</th>\n",
       "      <th>has_cactus</th>\n",
       "    </tr>\n",
       "  </thead>\n",
       "  <tbody>\n",
       "    <tr>\n",
       "      <th>0</th>\n",
       "      <td>0004be2cfeaba1c0361d39e2b000257b.jpg</td>\n",
       "      <td>1</td>\n",
       "    </tr>\n",
       "    <tr>\n",
       "      <th>1</th>\n",
       "      <td>000c8a36845c0208e833c79c1bffedd1.jpg</td>\n",
       "      <td>1</td>\n",
       "    </tr>\n",
       "    <tr>\n",
       "      <th>2</th>\n",
       "      <td>000d1e9a533f62e55c289303b072733d.jpg</td>\n",
       "      <td>1</td>\n",
       "    </tr>\n",
       "    <tr>\n",
       "      <th>3</th>\n",
       "      <td>0011485b40695e9138e92d0b3fb55128.jpg</td>\n",
       "      <td>1</td>\n",
       "    </tr>\n",
       "    <tr>\n",
       "      <th>4</th>\n",
       "      <td>0014d7a11e90b62848904c1418fc8cf2.jpg</td>\n",
       "      <td>1</td>\n",
       "    </tr>\n",
       "  </tbody>\n",
       "</table>\n",
       "</div>"
      ],
      "text/plain": [
       "                                     id  has_cactus\n",
       "0  0004be2cfeaba1c0361d39e2b000257b.jpg           1\n",
       "1  000c8a36845c0208e833c79c1bffedd1.jpg           1\n",
       "2  000d1e9a533f62e55c289303b072733d.jpg           1\n",
       "3  0011485b40695e9138e92d0b3fb55128.jpg           1\n",
       "4  0014d7a11e90b62848904c1418fc8cf2.jpg           1"
      ]
     },
     "execution_count": 5,
     "metadata": {},
     "output_type": "execute_result"
    }
   ],
   "source": [
    "data.head()"
   ]
  },
  {
   "cell_type": "code",
   "execution_count": 9,
   "metadata": {},
   "outputs": [],
   "source": [
    "x = data['id']"
   ]
  },
  {
   "cell_type": "code",
   "execution_count": 10,
   "metadata": {},
   "outputs": [],
   "source": [
    "y = data['has_cactus']"
   ]
  },
  {
   "cell_type": "code",
   "execution_count": 11,
   "metadata": {},
   "outputs": [],
   "source": [
    "xtrain,xtest,ytrain,ytest = train_test_split(x,y,test_size=0.15,random_state=42)"
   ]
  },
  {
   "cell_type": "code",
   "execution_count": 13,
   "metadata": {},
   "outputs": [
    {
     "data": {
      "text/plain": [
       "7613     6d6d4c8122c1111f94805dae99675a5d.jpg\n",
       "10353    953fec18611f8c7ea18010f4ff0a04d6.jpg\n",
       "9723     8be2938d2975dde41f84ea7e3264a3da.jpg\n",
       "16406    efcb21ef9ac16ff619b604f349acff5c.jpg\n",
       "2414     21bda1944ff8bb9a15b885d01fb30dab.jpg\n",
       "Name: id, dtype: object"
      ]
     },
     "execution_count": 13,
     "metadata": {},
     "output_type": "execute_result"
    }
   ],
   "source": [
    "xtrain.head()"
   ]
  },
  {
   "cell_type": "code",
   "execution_count": 24,
   "metadata": {},
   "outputs": [
    {
     "name": "stderr",
     "output_type": "stream",
     "text": [
      "100%|██████████████████████████████████████████████████████████████████████████| 14875/14875 [00:03<00:00, 4130.99it/s]\n",
      "100%|████████████████████████████████████████████████████████████████████████████| 2625/2625 [00:00<00:00, 4352.25it/s]\n"
     ]
    }
   ],
   "source": [
    "from tqdm import tqdm\n",
    "xtr_img = []\n",
    "xte_img = []\n",
    "for img in tqdm(xtrain):\n",
    "    img = plt.imread(\"./train/\"+img)\n",
    "    xtr_img.append(img)\n",
    "for img2 in tqdm(xtest):\n",
    "    img2 = plt.imread(\"./train/\"+img2)\n",
    "    xte_img.append(img2)"
   ]
  },
  {
   "cell_type": "code",
   "execution_count": 29,
   "metadata": {},
   "outputs": [
    {
     "name": "stdout",
     "output_type": "stream",
     "text": [
      "(14875, 32, 32, 3)\n",
      "(2625, 32, 32, 3)\n"
     ]
    }
   ],
   "source": [
    "xtr_img = np.array(xtr_img)\n",
    "xte_img = np.array(xte_img)\n",
    "print(xtr_img.shape)\n",
    "print(xte_img.shape)"
   ]
  },
  {
   "cell_type": "code",
   "execution_count": 30,
   "metadata": {},
   "outputs": [],
   "source": [
    "xtr_img = xtr_img.astype('float32')\n",
    "xte_img = xte_img.astype('float32')\n",
    "xtr_img = xtr_img/255\n",
    "xte_img = xte_img/255"
   ]
  },
  {
   "cell_type": "code",
   "execution_count": 32,
   "metadata": {},
   "outputs": [],
   "source": [
    "import keras\n",
    "from keras.models import Sequential, Model, load_model\n",
    "from keras.applications.xception import Xception\n",
    "from keras.layers import Activation ,Dense, Dropout, GlobalAveragePooling2D, Concatenate, BatchNormalization\n",
    "from keras.preprocessing.image import ImageDataGenerator\n",
    "from keras.callbacks import EarlyStopping,LearningRateScheduler, ReduceLROnPlateau\n",
    "from keras.losses import binary_crossentropy, sparse_categorical_crossentropy\n",
    "from keras.utils import to_categorical\n",
    "from keras.optimizers import Adam\n",
    "from keras import backend as K"
   ]
  },
  {
   "cell_type": "code",
   "execution_count": 43,
   "metadata": {},
   "outputs": [
    {
     "name": "stdout",
     "output_type": "stream",
     "text": [
      "__________________________________________________________________________________________________\n",
      "Layer (type)                    Output Shape         Param #     Connected to                     \n",
      "==================================================================================================\n",
      "input_5 (InputLayer)            (None, 32, 32, 3)    0                                            \n",
      "__________________________________________________________________________________________________\n",
      "xception (Model)                multiple             20861480    input_5[0][0]                    \n",
      "__________________________________________________________________________________________________\n",
      "global_max_pooling2d_2 (GlobalM (None, 2048)         0           xception[1][0]                   \n",
      "__________________________________________________________________________________________________\n",
      "global_average_pooling2d_2 (Glo (None, 2048)         0           xception[1][0]                   \n",
      "__________________________________________________________________________________________________\n",
      "flatten_2 (Flatten)             (None, 2048)         0           xception[1][0]                   \n",
      "__________________________________________________________________________________________________\n",
      "concatenate_2 (Concatenate)     (None, 6144)         0           global_max_pooling2d_2[0][0]     \n",
      "                                                                 global_average_pooling2d_2[0][0] \n",
      "                                                                 flatten_2[0][0]                  \n",
      "__________________________________________________________________________________________________\n",
      "dropout_2 (Dropout)             (None, 6144)         0           concatenate_2[0][0]              \n",
      "__________________________________________________________________________________________________\n",
      "dense512 (Dense)                (None, 512)          3146240     dropout_2[0][0]                  \n",
      "__________________________________________________________________________________________________\n",
      "dense256 (Dense)                (None, 256)          131328      dense512[0][0]                   \n",
      "__________________________________________________________________________________________________\n",
      "batch_normalization_14 (BatchNo (None, 256)          1024        dense256[0][0]                   \n",
      "__________________________________________________________________________________________________\n",
      "activation_2 (Activation)       (None, 256)          0           batch_normalization_14[0][0]     \n",
      "__________________________________________________________________________________________________\n",
      "dense1 (Dense)                  (None, 1)            257         activation_2[0][0]               \n",
      "==================================================================================================\n",
      "Total params: 24,140,329\n",
      "Trainable params: 24,085,289\n",
      "Non-trainable params: 55,040\n",
      "__________________________________________________________________________________________________\n"
     ]
    }
   ],
   "source": [
    "from keras.layers import *\n",
    "inputs = Input((32,32,3))\n",
    "bm = Xception(include_top=False, input_shape=(72,72,3))\n",
    "x = bm(inputs)\n",
    "op1 = GlobalMaxPooling2D()(x)\n",
    "op2 = GlobalAveragePooling2D()(x)\n",
    "op3 = Flatten()(x)\n",
    "out = Concatenate(axis=-1)([op1,op2,op3])\n",
    "\n",
    "out = Dropout(0.5)(out)\n",
    "out = Dense(512,name=\"dense512\")(out)\n",
    "out = Dense(256,name=\"dense256\")(out)\n",
    "out = BatchNormalization()(out)\n",
    "\n",
    "out = Activation(\"relu\")(out)\n",
    "out = Dense(1, activation=\"sigmoid\", name=\"dense1\")(out)\n",
    "model = Model(inputs, out)\n",
    "model.summary()"
   ]
  },
  {
   "cell_type": "code",
   "execution_count": 47,
   "metadata": {},
   "outputs": [],
   "source": [
    "bm.trainable = True\n",
    "\n",
    "set_trainable = False\n",
    "for layers in bm.layers:\n",
    "    layers.trainable = True"
   ]
  },
  {
   "cell_type": "code",
   "execution_count": 48,
   "metadata": {},
   "outputs": [],
   "source": [
    "model.compile(\"Adam\",loss=\"binary_crossentropy\",metrics=['accuracy'])"
   ]
  },
  {
   "cell_type": "code",
   "execution_count": 51,
   "metadata": {},
   "outputs": [
    {
     "name": "stdout",
     "output_type": "stream",
     "text": [
      "Epoch 1/40\n",
      "116/116 [==============================] - 14s 121ms/step - loss: 0.0222 - acc: 0.9921 - val_loss: 0.1183 - val_acc: 0.9589\n",
      "\n",
      "Epoch 00001: val_acc improved from -inf to 0.95886, saving model to my_nn_weight.hdf5\n",
      "Epoch 2/40\n",
      "116/116 [==============================] - 14s 119ms/step - loss: 0.0200 - acc: 0.9938 - val_loss: 0.0168 - val_acc: 0.9931\n",
      "\n",
      "Epoch 00002: val_acc improved from 0.95886 to 0.99314, saving model to my_nn_weight.hdf5\n",
      "Epoch 3/40\n",
      "116/116 [==============================] - 14s 121ms/step - loss: 0.0188 - acc: 0.9943 - val_loss: 0.0115 - val_acc: 0.9966\n",
      "\n",
      "Epoch 00003: val_acc improved from 0.99314 to 0.99657, saving model to my_nn_weight.hdf5\n",
      "Epoch 4/40\n",
      "116/116 [==============================] - 14s 118ms/step - loss: 0.0148 - acc: 0.9945 - val_loss: 0.0863 - val_acc: 0.9722\n",
      "\n",
      "Epoch 00004: val_acc did not improve from 0.99657\n",
      "Epoch 5/40\n",
      "116/116 [==============================] - 14s 119ms/step - loss: 0.0105 - acc: 0.9962 - val_loss: 0.0110 - val_acc: 0.9950\n",
      "\n",
      "Epoch 00005: ReduceLROnPlateau reducing learning rate to 0.0006000000284984708.\n",
      "\n",
      "Epoch 00005: val_acc did not improve from 0.99657\n",
      "Epoch 6/40\n",
      "116/116 [==============================] - 14s 120ms/step - loss: 0.0092 - acc: 0.9972 - val_loss: 0.0065 - val_acc: 0.9966\n",
      "\n",
      "Epoch 00006: val_acc did not improve from 0.99657\n",
      "Epoch 7/40\n",
      "116/116 [==============================] - 14s 119ms/step - loss: 0.0089 - acc: 0.9973 - val_loss: 0.0086 - val_acc: 0.9970\n",
      "\n",
      "Epoch 00007: val_acc improved from 0.99657 to 0.99695, saving model to my_nn_weight.hdf5\n",
      "Epoch 8/40\n",
      "116/116 [==============================] - 14s 118ms/step - loss: 0.0085 - acc: 0.9970 - val_loss: 0.0080 - val_acc: 0.9973\n",
      "\n",
      "Epoch 00008: val_acc improved from 0.99695 to 0.99733, saving model to my_nn_weight.hdf5\n",
      "Epoch 9/40\n",
      "116/116 [==============================] - 14s 119ms/step - loss: 0.0052 - acc: 0.9982 - val_loss: 0.0113 - val_acc: 0.9958\n",
      "\n",
      "Epoch 00009: ReduceLROnPlateau reducing learning rate to 0.0003600000170990825.\n",
      "\n",
      "Epoch 00009: val_acc did not improve from 0.99733\n",
      "Epoch 10/40\n",
      "116/116 [==============================] - 14s 120ms/step - loss: 0.0040 - acc: 0.9985 - val_loss: 0.0046 - val_acc: 0.9985\n",
      "\n",
      "Epoch 00010: val_acc improved from 0.99733 to 0.99848, saving model to my_nn_weight.hdf5\n",
      "Epoch 11/40\n",
      "116/116 [==============================] - 14s 120ms/step - loss: 0.0038 - acc: 0.9985 - val_loss: 0.0075 - val_acc: 0.9973\n",
      "\n",
      "Epoch 00011: val_acc did not improve from 0.99848\n",
      "Epoch 12/40\n",
      "116/116 [==============================] - 14s 120ms/step - loss: 0.0046 - acc: 0.9985 - val_loss: 0.0033 - val_acc: 0.9981\n",
      "\n",
      "Epoch 00012: val_acc did not improve from 0.99848\n",
      "Epoch 13/40\n",
      "116/116 [==============================] - 14s 119ms/step - loss: 0.0056 - acc: 0.9985 - val_loss: 0.0084 - val_acc: 0.9973\n",
      "\n",
      "Epoch 00013: ReduceLROnPlateau reducing learning rate to 0.00021600000327453016.\n",
      "\n",
      "Epoch 00013: val_acc did not improve from 0.99848\n",
      "Epoch 14/40\n",
      "116/116 [==============================] - 14s 121ms/step - loss: 0.0045 - acc: 0.9983 - val_loss: 0.0026 - val_acc: 0.9989\n",
      "\n",
      "Epoch 00014: val_acc improved from 0.99848 to 0.99886, saving model to my_nn_weight.hdf5\n",
      "Epoch 15/40\n",
      "116/116 [==============================] - 14s 121ms/step - loss: 0.0030 - acc: 0.9989 - val_loss: 0.0046 - val_acc: 0.9977\n",
      "\n",
      "Epoch 00015: val_acc did not improve from 0.99886\n",
      "Epoch 16/40\n",
      "116/116 [==============================] - 14s 120ms/step - loss: 0.0048 - acc: 0.9985 - val_loss: 0.0058 - val_acc: 0.9973\n",
      "\n",
      "Epoch 00016: val_acc did not improve from 0.99886\n",
      "Epoch 17/40\n",
      "116/116 [==============================] - 14s 121ms/step - loss: 0.0032 - acc: 0.9991 - val_loss: 0.0138 - val_acc: 0.9950\n",
      "\n",
      "Epoch 00017: ReduceLROnPlateau reducing learning rate to 0.00012960000021848827.\n",
      "\n",
      "Epoch 00017: val_acc did not improve from 0.99886\n",
      "Epoch 18/40\n",
      "116/116 [==============================] - 14s 118ms/step - loss: 0.0039 - acc: 0.9990 - val_loss: 0.0084 - val_acc: 0.9970\n",
      "\n",
      "Epoch 00018: val_acc did not improve from 0.99886\n",
      "Epoch 19/40\n",
      "116/116 [==============================] - 14s 119ms/step - loss: 0.0023 - acc: 0.9995 - val_loss: 0.0078 - val_acc: 0.9973\n",
      "\n",
      "Epoch 00019: val_acc did not improve from 0.99886\n",
      "Epoch 20/40\n",
      "116/116 [==============================] - 14s 120ms/step - loss: 0.0034 - acc: 0.9989 - val_loss: 0.0082 - val_acc: 0.9973\n",
      "\n",
      "Epoch 00020: val_acc did not improve from 0.99886\n",
      "Epoch 21/40\n",
      "116/116 [==============================] - 14s 120ms/step - loss: 0.0027 - acc: 0.9989 - val_loss: 0.0117 - val_acc: 0.9962\n",
      "\n",
      "Epoch 00021: ReduceLROnPlateau reducing learning rate to 7.775999838486313e-05.\n",
      "\n",
      "Epoch 00021: val_acc did not improve from 0.99886\n",
      "Epoch 22/40\n",
      "116/116 [==============================] - 14s 119ms/step - loss: 0.0012 - acc: 0.9997 - val_loss: 0.0075 - val_acc: 0.9970\n",
      "\n",
      "Epoch 00022: val_acc did not improve from 0.99886\n",
      "Epoch 23/40\n",
      "116/116 [==============================] - 14s 118ms/step - loss: 0.0013 - acc: 0.9995 - val_loss: 0.0066 - val_acc: 0.9977\n",
      "\n",
      "Epoch 00023: val_acc did not improve from 0.99886\n",
      "Epoch 24/40\n",
      "116/116 [==============================] - 14s 117ms/step - loss: 0.0028 - acc: 0.9991 - val_loss: 0.0061 - val_acc: 0.9973\n",
      "\n",
      "Epoch 00024: val_acc did not improve from 0.99886\n",
      "Epoch 25/40\n",
      "116/116 [==============================] - 14s 118ms/step - loss: 0.0014 - acc: 0.9994 - val_loss: 0.0067 - val_acc: 0.9973\n",
      "\n",
      "Epoch 00025: ReduceLROnPlateau reducing learning rate to 4.6655999904032795e-05.\n",
      "\n",
      "Epoch 00025: val_acc did not improve from 0.99886\n",
      "Epoch 26/40\n",
      "116/116 [==============================] - 13s 116ms/step - loss: 0.0014 - acc: 0.9996 - val_loss: 0.0074 - val_acc: 0.9973\n",
      "\n",
      "Epoch 00026: val_acc did not improve from 0.99886\n",
      "Epoch 27/40\n",
      "116/116 [==============================] - 13s 116ms/step - loss: 0.0013 - acc: 0.9997 - val_loss: 0.0080 - val_acc: 0.9973\n",
      "\n",
      "Epoch 00027: val_acc did not improve from 0.99886\n",
      "Epoch 28/40\n",
      "116/116 [==============================] - 13s 113ms/step - loss: 9.7169e-04 - acc: 0.9995 - val_loss: 0.0080 - val_acc: 0.9973\n",
      "\n",
      "Epoch 00028: val_acc did not improve from 0.99886\n",
      "Epoch 29/40\n",
      "116/116 [==============================] - 13s 113ms/step - loss: 0.0014 - acc: 0.9994 - val_loss: 0.0065 - val_acc: 0.9981\n",
      "\n",
      "Epoch 00029: ReduceLROnPlateau reducing learning rate to 2.799360081553459e-05.\n",
      "\n",
      "Epoch 00029: val_acc did not improve from 0.99886\n",
      "Epoch 30/40\n",
      "116/116 [==============================] - 13s 113ms/step - loss: 4.4845e-04 - acc: 0.9999 - val_loss: 0.0082 - val_acc: 0.9981\n",
      "\n",
      "Epoch 00030: val_acc did not improve from 0.99886\n",
      "Epoch 31/40\n",
      "116/116 [==============================] - 13s 111ms/step - loss: 0.0014 - acc: 0.9995 - val_loss: 0.0075 - val_acc: 0.9981\n",
      "\n",
      "Epoch 00031: val_acc did not improve from 0.99886\n",
      "Epoch 32/40\n",
      "116/116 [==============================] - 13s 111ms/step - loss: 6.4067e-04 - acc: 0.9999 - val_loss: 0.0064 - val_acc: 0.9977\n",
      "\n",
      "Epoch 00032: val_acc did not improve from 0.99886\n",
      "Epoch 33/40\n",
      "116/116 [==============================] - 13s 111ms/step - loss: 0.0011 - acc: 0.9997 - val_loss: 0.0076 - val_acc: 0.9977\n",
      "\n",
      "Epoch 00033: ReduceLROnPlateau reducing learning rate to 1.6796160707599483e-05.\n",
      "\n",
      "Epoch 00033: val_acc did not improve from 0.99886\n",
      "Epoch 34/40\n",
      "116/116 [==============================] - 13s 112ms/step - loss: 0.0021 - acc: 0.9993 - val_loss: 0.0080 - val_acc: 0.9977\n",
      "\n",
      "Epoch 00034: val_acc did not improve from 0.99886\n",
      "Epoch 35/40\n",
      "116/116 [==============================] - 13s 111ms/step - loss: 7.0746e-04 - acc: 0.9997 - val_loss: 0.0072 - val_acc: 0.9977\n",
      "\n",
      "Epoch 00035: val_acc did not improve from 0.99886\n",
      "Epoch 36/40\n",
      "116/116 [==============================] - 13s 110ms/step - loss: 0.0018 - acc: 0.9993 - val_loss: 0.0071 - val_acc: 0.9977\n",
      "\n",
      "Epoch 00036: val_acc did not improve from 0.99886\n",
      "Epoch 37/40\n",
      "116/116 [==============================] - 13s 109ms/step - loss: 0.0013 - acc: 0.9995 - val_loss: 0.0054 - val_acc: 0.9981\n",
      "\n",
      "Epoch 00037: ReduceLROnPlateau reducing learning rate to 1.007769642455969e-05.\n",
      "\n",
      "Epoch 00037: val_acc did not improve from 0.99886\n",
      "Epoch 38/40\n",
      "116/116 [==============================] - 13s 110ms/step - loss: 0.0011 - acc: 0.9994 - val_loss: 0.0049 - val_acc: 0.9981\n",
      "\n",
      "Epoch 00038: val_acc did not improve from 0.99886\n",
      "Epoch 39/40\n",
      "116/116 [==============================] - 13s 109ms/step - loss: 0.0013 - acc: 0.9997 - val_loss: 0.0060 - val_acc: 0.9977\n",
      "\n",
      "Epoch 00039: val_acc did not improve from 0.99886\n",
      "Epoch 40/40\n",
      "116/116 [==============================] - 13s 109ms/step - loss: 9.6699e-04 - acc: 0.9997 - val_loss: 0.0070 - val_acc: 0.9977\n",
      "\n",
      "Epoch 00040: val_acc did not improve from 0.99886\n"
     ]
    }
   ],
   "source": [
    "from keras.callbacks import ModelCheckpoint\n",
    "\n",
    "batch_size = 128\n",
    "epochs = 40\n",
    "\n",
    "fp = \"my_nn_weight.hdf5\"\n",
    "\n",
    "chkpoint = ModelCheckpoint(fp, monitor=\"val_acc\", save_best_only=True, verbose=1, mode=\"max\")\n",
    "lr = ReduceLROnPlateau(monitor=\"val_loss\",factor=0.6,patience=4,min_lr=0,cooldown=0,min_delta=0.0,verbose=1,mode=\"max\")\n",
    "earlystop = EarlyStopping(monitor='val_acc', min_delta=0.0001, patience=25, verbose=1, mode='max', baseline=None, restore_best_weights=True)\n",
    "\n",
    "train_dtgen = ImageDataGenerator(rotation_range=45, \n",
    "                                 shear_range=0.2,\n",
    "                                 zoom_range =0.2 ,\n",
    "                                 vertical_flip=True,\n",
    "                                 horizontal_flip=True) \n",
    "train_dtgen.fit(xtr_img)\n",
    "history = model.fit_generator(\n",
    "    train_dtgen.flow(xtr_img, ytrain, batch_size=batch_size),\n",
    "    steps_per_epoch=xtrain.shape[0] // batch_size,\n",
    "    epochs=epochs,\n",
    "    validation_data=(xte_img, ytest),\n",
    "    callbacks=[lr, chkpoint] \n",
    ")"
   ]
  },
  {
   "cell_type": "code",
   "execution_count": 53,
   "metadata": {},
   "outputs": [
    {
     "data": {
      "image/png": "[encoded data removed]",
      "text/plain": [
       "<Figure size 432x288 with 1 Axes>"
      ]
     },
     "metadata": {
      "needs_background": "light"
     },
     "output_type": "display_data"
    }
   ],
   "source": [
    "plt.plot(history.history['val_acc'])\n",
    "plt.title('model accuracy')\n",
    "plt.ylabel('accuracy')\n",
    "plt.xlabel('epoch')\n",
    "plt.show()"
   ]
  },
  {
   "cell_type": "code",
   "execution_count": 55,
   "metadata": {},
   "outputs": [
    {
     "data": {
      "image/png": "[encoded data removed]",
      "text/plain": [
       "<Figure size 432x288 with 1 Axes>"
      ]
     },
     "metadata": {
      "needs_background": "light"
     },
     "output_type": "display_data"
    }
   ],
   "source": [
    "plt.plot(history.history['val_loss'])\n",
    "plt.title('model accuracy')\n",
    "plt.ylabel('accuracy')\n",
    "plt.xlabel('epoch')\n",
    "plt.show()"
   ]
  },
  {
   "cell_type": "code",
   "execution_count": 57,
   "metadata": {},
   "outputs": [
    {
     "name": "stderr",
     "output_type": "stream",
     "text": [
      "100%|█████████████████████████████████████████████████████████████████████████████| 4000/4000 [00:16<00:00, 245.97it/s]\n"
     ]
    }
   ],
   "source": [
    "sample = pd.read_csv('./sample_submission.csv')\n",
    "test = []\n",
    "for images in tqdm(sample['id']):\n",
    "    img = plt.imread('./test/' + images)\n",
    "    test.append(img)\n",
    "\n",
    "test = np.array(test)\n",
    "test = test/255"
   ]
  },
  {
   "cell_type": "code",
   "execution_count": 58,
   "metadata": {},
   "outputs": [
    {
     "name": "stdout",
     "output_type": "stream",
     "text": []
    },
    {
     "name": "stdout",
     "output_type": "stream",
     "text": [
      "4000/4000 [==============================] - 4s 1ms/step\n"
     ]
    }
   ],
   "source": [
    "test_pred = model.predict(test, verbose= 1)"
   ]
  },
  {
   "cell_type": "code",
   "execution_count": 59,
   "metadata": {},
   "outputs": [
    {
     "data": {
      "text/html": [
       "<div>\n",
       "<style scoped>\n",
       "    .dataframe tbody tr th:only-of-type {\n",
       "        vertical-align: middle;\n",
       "    }\n",
       "\n",
       "    .dataframe tbody tr th {\n",
       "        vertical-align: top;\n",
       "    }\n",
       "\n",
       "    .dataframe thead th {\n",
       "        text-align: right;\n",
       "    }\n",
       "</style>\n",
       "<table border=\"1\" class=\"dataframe\">\n",
       "  <thead>\n",
       "    <tr style=\"text-align: right;\">\n",
       "      <th></th>\n",
       "      <th>id</th>\n",
       "      <th>has_cactus</th>\n",
       "    </tr>\n",
       "  </thead>\n",
       "  <tbody>\n",
       "    <tr>\n",
       "      <th>0</th>\n",
       "      <td>000940378805c44108d287872b2f04ce.jpg</td>\n",
       "      <td>0.999970</td>\n",
       "    </tr>\n",
       "    <tr>\n",
       "      <th>1</th>\n",
       "      <td>0017242f54ececa4512b4d7937d1e21e.jpg</td>\n",
       "      <td>0.999977</td>\n",
       "    </tr>\n",
       "    <tr>\n",
       "      <th>2</th>\n",
       "      <td>001ee6d8564003107853118ab87df407.jpg</td>\n",
       "      <td>0.000006</td>\n",
       "    </tr>\n",
       "    <tr>\n",
       "      <th>3</th>\n",
       "      <td>002e175c3c1e060769475f52182583d0.jpg</td>\n",
       "      <td>0.000009</td>\n",
       "    </tr>\n",
       "    <tr>\n",
       "      <th>4</th>\n",
       "      <td>0036e44a7e8f7218e9bc7bf8137e4943.jpg</td>\n",
       "      <td>0.999948</td>\n",
       "    </tr>\n",
       "  </tbody>\n",
       "</table>\n",
       "</div>"
      ],
      "text/plain": [
       "                                     id  has_cactus\n",
       "0  000940378805c44108d287872b2f04ce.jpg    0.999970\n",
       "1  0017242f54ececa4512b4d7937d1e21e.jpg    0.999977\n",
       "2  001ee6d8564003107853118ab87df407.jpg    0.000006\n",
       "3  002e175c3c1e060769475f52182583d0.jpg    0.000009\n",
       "4  0036e44a7e8f7218e9bc7bf8137e4943.jpg    0.999948"
      ]
     },
     "execution_count": 59,
     "metadata": {},
     "output_type": "execute_result"
    }
   ],
   "source": [
    "sample['has_cactus'] = test_pred\n",
    "sample.head()"
   ]
  },
  {
   "cell_type": "code",
   "execution_count": 60,
   "metadata": {},
   "outputs": [],
   "source": [
    "sample.to_csv('sub2.csv', index= False)"
   ]
  },
  {
   "cell_type": "code",
   "execution_count": null,
   "metadata": {},
   "outputs": [],
   "source": []
  }
 ],
 "metadata": {
  "kernelspec": {
   "display_name": "Python 3",
   "language": "python",
   "name": "python3"
  },
  "language_info": {
   "codemirror_mode": {
    "name": "ipython",
    "version": 3
   },
   "file_extension": ".py",
   "mimetype": "text/x-python",
   "name": "python",
   "nbconvert_exporter": "python",
   "pygments_lexer": "ipython3",
   "version": "3.6.6"
  }
 },
 "nbformat": 4,
 "nbformat_minor": 2
}
