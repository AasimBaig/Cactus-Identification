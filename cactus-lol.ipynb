{
 "cells": [
  {
   "cell_type": "code",
   "execution_count": 1,
   "metadata": {},
   "outputs": [
    {
     "name": "stderr",
     "output_type": "stream",
     "text": [
      "Using TensorFlow backend.\n"
     ]
    }
   ],
   "source": [
    "import numpy as np\n",
    "import matplotlib.pyplot as plt\n",
    "import matplotlib\n",
    "import pandas as pd\n",
    "import keras\n",
    "from sklearn.model_selection import train_test_split\n",
    "import tqdm"
   ]
  },
  {
   "cell_type": "code",
   "execution_count": 2,
   "metadata": {},
   "outputs": [],
   "source": [
    "train = pd.read_csv(\"./train.csv\")"
   ]
  },
  {
   "cell_type": "code",
   "execution_count": 3,
   "metadata": {},
   "outputs": [
    {
     "data": {
      "text/html": [
       "<div>\n",
       "<style scoped>\n",
       "    .dataframe tbody tr th:only-of-type {\n",
       "        vertical-align: middle;\n",
       "    }\n",
       "\n",
       "    .dataframe tbody tr th {\n",
       "        vertical-align: top;\n",
       "    }\n",
       "\n",
       "    .dataframe thead th {\n",
       "        text-align: right;\n",
       "    }\n",
       "</style>\n",
       "<table border=\"1\" class=\"dataframe\">\n",
       "  <thead>\n",
       "    <tr style=\"text-align: right;\">\n",
       "      <th></th>\n",
       "      <th>id</th>\n",
       "      <th>has_cactus</th>\n",
       "    </tr>\n",
       "  </thead>\n",
       "  <tbody>\n",
       "    <tr>\n",
       "      <th>0</th>\n",
       "      <td>0004be2cfeaba1c0361d39e2b000257b.jpg</td>\n",
       "      <td>1</td>\n",
       "    </tr>\n",
       "    <tr>\n",
       "      <th>1</th>\n",
       "      <td>000c8a36845c0208e833c79c1bffedd1.jpg</td>\n",
       "      <td>1</td>\n",
       "    </tr>\n",
       "    <tr>\n",
       "      <th>2</th>\n",
       "      <td>000d1e9a533f62e55c289303b072733d.jpg</td>\n",
       "      <td>1</td>\n",
       "    </tr>\n",
       "    <tr>\n",
       "      <th>3</th>\n",
       "      <td>0011485b40695e9138e92d0b3fb55128.jpg</td>\n",
       "      <td>1</td>\n",
       "    </tr>\n",
       "    <tr>\n",
       "      <th>4</th>\n",
       "      <td>0014d7a11e90b62848904c1418fc8cf2.jpg</td>\n",
       "      <td>1</td>\n",
       "    </tr>\n",
       "  </tbody>\n",
       "</table>\n",
       "</div>"
      ],
      "text/plain": [
       "                                     id  has_cactus\n",
       "0  0004be2cfeaba1c0361d39e2b000257b.jpg           1\n",
       "1  000c8a36845c0208e833c79c1bffedd1.jpg           1\n",
       "2  000d1e9a533f62e55c289303b072733d.jpg           1\n",
       "3  0011485b40695e9138e92d0b3fb55128.jpg           1\n",
       "4  0014d7a11e90b62848904c1418fc8cf2.jpg           1"
      ]
     },
     "execution_count": 3,
     "metadata": {},
     "output_type": "execute_result"
    }
   ],
   "source": [
    "train.head()"
   ]
  },
  {
   "cell_type": "code",
   "execution_count": 4,
   "metadata": {},
   "outputs": [],
   "source": [
    "img = plt.imread(\"./train/\"+train['id'][0])"
   ]
  },
  {
   "cell_type": "code",
   "execution_count": 5,
   "metadata": {},
   "outputs": [
    {
     "data": {
      "text/plain": [
       "(32, 32, 3)"
      ]
     },
     "execution_count": 5,
     "metadata": {},
     "output_type": "execute_result"
    }
   ],
   "source": [
    "img.shape"
   ]
  },
  {
   "cell_type": "code",
   "execution_count": 6,
   "metadata": {},
   "outputs": [],
   "source": [
    "x_train, x_test, y_train, y_test = train_test_split(train['id'], train['has_cactus'], test_size = 0.1, random_state = 32)"
   ]
  },
  {
   "cell_type": "code",
   "execution_count": 7,
   "metadata": {},
   "outputs": [
    {
     "data": {
      "text/plain": [
       "11878    abd9a552e5fd12f11abc08d70817dccb.jpg\n",
       "17221    fbd51e7dbb31cee4b2e11ee20cd133ef.jpg\n",
       "14558    d3de0d511a8b13e260e6d47b1fa242f7.jpg\n",
       "2785     27147093c1c112bccb7a8c6ab346d512.jpg\n",
       "8147     74f611a1f3d41313fe35ec75c50e3c15.jpg\n",
       "Name: id, dtype: object"
      ]
     },
     "execution_count": 7,
     "metadata": {},
     "output_type": "execute_result"
    }
   ],
   "source": [
    "x_train.head()"
   ]
  },
  {
   "cell_type": "code",
   "execution_count": 8,
   "metadata": {},
   "outputs": [
    {
     "data": {
      "text/plain": [
       "11059    9fdc9fc1e21de90bb6fa60c352730874.jpg\n",
       "7766     6f91f3f61c05efd2d19c8fb8daeb01e3.jpg\n",
       "4723     436cc6cee6013fd9d92129e8731c9fe9.jpg\n",
       "4219     3b7099dc3b98cb00fa31be60f8b57f58.jpg\n",
       "4263     3c229646fbb827820b634191465a8902.jpg\n",
       "Name: id, dtype: object"
      ]
     },
     "execution_count": 8,
     "metadata": {},
     "output_type": "execute_result"
    }
   ],
   "source": [
    "x_test.head()"
   ]
  },
  {
   "cell_type": "code",
   "execution_count": 9,
   "metadata": {},
   "outputs": [
    {
     "data": {
      "text/plain": [
       "11878    1\n",
       "17221    0\n",
       "14558    1\n",
       "2785     1\n",
       "8147     1\n",
       "Name: has_cactus, dtype: int64"
      ]
     },
     "execution_count": 9,
     "metadata": {},
     "output_type": "execute_result"
    }
   ],
   "source": [
    "y_train.head()"
   ]
  },
  {
   "cell_type": "code",
   "execution_count": 18,
   "metadata": {},
   "outputs": [
    {
     "name": "stderr",
     "output_type": "stream",
     "text": [
      "100%|██████████████████████████████████████████████████████████████████████████| 15750/15750 [00:03<00:00, 4222.69it/s]\n"
     ]
    }
   ],
   "source": [
    "xtrain_arr = []\n",
    "for image in tqdm.tqdm(x_train):\n",
    "    img = plt.imread(\"./train/\"+image)\n",
    "    xtrain_arr.append(img)"
   ]
  },
  {
   "cell_type": "code",
   "execution_count": 19,
   "metadata": {},
   "outputs": [
    {
     "name": "stdout",
     "output_type": "stream",
     "text": [
      "(15750, 32, 32, 3)\n"
     ]
    }
   ],
   "source": [
    "xtrain_arr = np.array(xtrain_arr)\n",
    "print(xtrain_arr.shape)"
   ]
  },
  {
   "cell_type": "code",
   "execution_count": 17,
   "metadata": {},
   "outputs": [],
   "source": [
    "xtest_arr = []"
   ]
  },
  {
   "cell_type": "code",
   "execution_count": 20,
   "metadata": {},
   "outputs": [
    {
     "name": "stderr",
     "output_type": "stream",
     "text": [
      "100%|██████████████████████████████████████████████████████████████████████████████| 1750/1750 [00:17<00:00, 98.15it/s]\n"
     ]
    }
   ],
   "source": [
    "for image in tqdm.tqdm(x_test):\n",
    "    img = plt.imread(\"./train/\"+image)\n",
    "    xtest_arr.append(img)"
   ]
  },
  {
   "cell_type": "code",
   "execution_count": 21,
   "metadata": {},
   "outputs": [
    {
     "name": "stdout",
     "output_type": "stream",
     "text": [
      "(1750, 32, 32, 3)\n"
     ]
    }
   ],
   "source": [
    "xtest_arr = np.array(xtest_arr)\n",
    "print(xtest_arr.shape)"
   ]
  },
  {
   "cell_type": "code",
   "execution_count": 22,
   "metadata": {},
   "outputs": [],
   "source": [
    "xtrain_arr = xtrain_arr.astype('float32')\n",
    "xtrain_arr = xtrain_arr/255\n",
    "xtest_arr = xtest_arr.astype('float32')\n",
    "xtest_arr = xtest_arr/255"
   ]
  },
  {
   "cell_type": "code",
   "execution_count": 32,
   "metadata": {},
   "outputs": [],
   "source": [
    "from keras.models import Model,Sequential,load_model\n",
    "from keras.layers import *\n",
    "from keras import applications\n",
    "from keras.optimizers import Adam, RMSprop, SGD\n",
    "from keras.callbacks import EarlyStopping, ModelCheckpoint, ReduceLROnPlateau\n",
    "from keras.utils.np_utils import to_categorical\n",
    "from keras.losses import binary_crossentropy, sparse_categorical_crossentropy\n",
    "from keras import backend as K"
   ]
  },
  {
   "cell_type": "code",
   "execution_count": 35,
   "metadata": {},
   "outputs": [
    {
     "name": "stdout",
     "output_type": "stream",
     "text": [
      "Downloading data from https://github.com/fchollet/deep-learning-models/releases/download/v0.4/xception_weights_tf_dim_ordering_tf_kernels_notop.h5\n",
      "83689472/83683744 [==============================] - 235s 3us/step\n",
      "__________________________________________________________________________________________________\n",
      "Layer (type)                    Output Shape         Param #     Connected to                     \n",
      "==================================================================================================\n",
      "input_3 (InputLayer)            (None, 32, 32, 3)    0                                            \n",
      "__________________________________________________________________________________________________\n",
      "xception (Model)                multiple             20861480    input_3[0][0]                    \n",
      "__________________________________________________________________________________________________\n",
      "global_max_pooling2d_1 (GlobalM (None, 2048)         0           xception[1][0]                   \n",
      "__________________________________________________________________________________________________\n",
      "global_average_pooling2d_1 (Glo (None, 2048)         0           xception[1][0]                   \n",
      "__________________________________________________________________________________________________\n",
      "flatten_1 (Flatten)             (None, 2048)         0           xception[1][0]                   \n",
      "__________________________________________________________________________________________________\n",
      "concatenate_1 (Concatenate)     (None, 6144)         0           global_max_pooling2d_1[0][0]     \n",
      "                                                                 global_average_pooling2d_1[0][0] \n",
      "                                                                 flatten_1[0][0]                  \n",
      "__________________________________________________________________________________________________\n",
      "dropout_1 (Dropout)             (None, 6144)         0           concatenate_1[0][0]              \n",
      "__________________________________________________________________________________________________\n",
      "3_ (Dense)                      (None, 256)          1573120     dropout_1[0][0]                  \n",
      "__________________________________________________________________________________________________\n",
      "batch_normalization_5 (BatchNor (None, 256)          1024        3_[0][0]                         \n",
      "__________________________________________________________________________________________________\n",
      "activation_1 (Activation)       (None, 256)          0           batch_normalization_5[0][0]      \n",
      "__________________________________________________________________________________________________\n",
      "3_2 (Dense)                     (None, 1)            257         activation_1[0][0]               \n",
      "==================================================================================================\n",
      "Total params: 22,435,881\n",
      "Trainable params: 22,380,841\n",
      "Non-trainable params: 55,040\n",
      "__________________________________________________________________________________________________\n"
     ]
    }
   ],
   "source": [
    "from keras.applications.xception import Xception\n",
    "from keras.layers import *\n",
    "\n",
    "inputs = Input((32, 32, 3))\n",
    "base_model = Xception(include_top=False, input_shape=(71, 71, 3))#, weights=None\n",
    "x = base_model(inputs)\n",
    "out1 = GlobalMaxPooling2D()(x)\n",
    "out2 = GlobalAveragePooling2D()(x)\n",
    "out3 = Flatten()(x)\n",
    "out = Concatenate(axis=-1)([out1, out2, out3])\n",
    "out = Dropout(0.5)(out)\n",
    "out = Dense(256, name=\"3_\")(out)\n",
    "out = BatchNormalization()(out)\n",
    "out = Activation(\"relu\")(out)\n",
    "out = Dense(1, activation=\"sigmoid\", name=\"3_2\")(out)\n",
    "model = Model(inputs, out)\n",
    "model.summary()"
   ]
  },
  {
   "cell_type": "code",
   "execution_count": 36,
   "metadata": {},
   "outputs": [],
   "source": [
    "base_model.Trainable=True\n",
    "\n",
    "set_trainable=False\n",
    "for layer in base_model.layers:\n",
    "    layer.trainable = True"
   ]
  },
  {
   "cell_type": "code",
   "execution_count": 37,
   "metadata": {},
   "outputs": [],
   "source": [
    "model.compile('rmsprop', loss = \"binary_crossentropy\", metrics=[\"accuracy\"])"
   ]
  },
  {
   "cell_type": "code",
   "execution_count": 39,
   "metadata": {},
   "outputs": [
    {
     "name": "stdout",
     "output_type": "stream",
     "text": [
      "Epoch 1/36\n",
      "123/123 [==============================] - 34s 278ms/step - loss: 0.1843 - acc: 0.9419 - val_loss: 0.4412 - val_acc: 0.9480\n",
      "\n",
      "Epoch 00001: val_acc improved from -inf to 0.94800, saving model to weights_resnet.hdf5\n",
      "Epoch 2/36\n",
      "123/123 [==============================] - 12s 100ms/step - loss: 0.0571 - acc: 0.9818 - val_loss: 0.4165 - val_acc: 0.9297\n",
      "\n",
      "Epoch 00002: val_acc did not improve from 0.94800\n",
      "Epoch 3/36\n",
      "123/123 [==============================] - 12s 100ms/step - loss: 0.0714 - acc: 0.9822 - val_loss: 0.1225 - val_acc: 0.9651\n",
      "\n",
      "Epoch 00003: val_acc improved from 0.94800 to 0.96514, saving model to weights_resnet.hdf5\n",
      "Epoch 4/36\n",
      "123/123 [==============================] - 12s 99ms/step - loss: 0.0481 - acc: 0.9889 - val_loss: 0.0114 - val_acc: 0.9960\n",
      "\n",
      "Epoch 00004: val_acc improved from 0.96514 to 0.99600, saving model to weights_resnet.hdf5\n",
      "Epoch 5/36\n",
      "123/123 [==============================] - 12s 98ms/step - loss: 0.0258 - acc: 0.9927 - val_loss: 0.0293 - val_acc: 0.9949\n",
      "\n",
      "Epoch 00005: ReduceLROnPlateau reducing learning rate to 0.0006000000284984708.\n",
      "\n",
      "Epoch 00005: val_acc did not improve from 0.99600\n",
      "Epoch 6/36\n",
      "123/123 [==============================] - 13s 102ms/step - loss: 0.0171 - acc: 0.9952 - val_loss: 0.0226 - val_acc: 0.9943\n",
      "\n",
      "Epoch 00006: val_acc did not improve from 0.99600\n",
      "Epoch 7/36\n",
      "123/123 [==============================] - 12s 100ms/step - loss: 0.0150 - acc: 0.9956 - val_loss: 0.0137 - val_acc: 0.9954\n",
      "\n",
      "Epoch 00007: val_acc did not improve from 0.99600\n",
      "Epoch 8/36\n",
      "123/123 [==============================] - 12s 99ms/step - loss: 0.0120 - acc: 0.9957 - val_loss: 0.0158 - val_acc: 0.9943\n",
      "\n",
      "Epoch 00008: val_acc did not improve from 0.99600\n",
      "Epoch 9/36\n",
      "123/123 [==============================] - 12s 100ms/step - loss: 0.0085 - acc: 0.9970 - val_loss: 0.0447 - val_acc: 0.9863\n",
      "\n",
      "Epoch 00009: ReduceLROnPlateau reducing learning rate to 0.0003600000170990825.\n",
      "\n",
      "Epoch 00009: val_acc did not improve from 0.99600\n",
      "Epoch 10/36\n",
      "123/123 [==============================] - 12s 98ms/step - loss: 0.0092 - acc: 0.9973 - val_loss: 0.0129 - val_acc: 0.9960\n",
      "\n",
      "Epoch 00010: val_acc did not improve from 0.99600\n",
      "Epoch 11/36\n",
      "123/123 [==============================] - 12s 100ms/step - loss: 0.0254 - acc: 0.9967 - val_loss: 0.0274 - val_acc: 0.9897\n",
      "\n",
      "Epoch 00011: val_acc did not improve from 0.99600\n",
      "Epoch 12/36\n",
      "123/123 [==============================] - 12s 99ms/step - loss: 0.0075 - acc: 0.9978 - val_loss: 0.0126 - val_acc: 0.9954\n",
      "\n",
      "Epoch 00012: val_acc did not improve from 0.99600\n",
      "Epoch 13/36\n",
      "123/123 [==============================] - 12s 99ms/step - loss: 0.0192 - acc: 0.9969 - val_loss: 0.0139 - val_acc: 0.9960\n",
      "\n",
      "Epoch 00013: ReduceLROnPlateau reducing learning rate to 0.00021600000327453016.\n",
      "\n",
      "Epoch 00013: val_acc improved from 0.99600 to 0.99600, saving model to weights_resnet.hdf5\n",
      "Epoch 14/36\n",
      "123/123 [==============================] - 12s 99ms/step - loss: 0.0041 - acc: 0.9985 - val_loss: 0.0128 - val_acc: 0.9954\n",
      "\n",
      "Epoch 00014: val_acc did not improve from 0.99600\n",
      "Epoch 15/36\n",
      "123/123 [==============================] - 12s 99ms/step - loss: 0.0047 - acc: 0.9985 - val_loss: 0.0112 - val_acc: 0.9949\n",
      "\n",
      "Epoch 00015: val_acc did not improve from 0.99600\n",
      "Epoch 16/36\n",
      "123/123 [==============================] - 12s 98ms/step - loss: 0.0098 - acc: 0.9975 - val_loss: 0.0115 - val_acc: 0.9971\n",
      "\n",
      "Epoch 00016: val_acc improved from 0.99600 to 0.99714, saving model to weights_resnet.hdf5\n",
      "Epoch 17/36\n",
      "123/123 [==============================] - 12s 98ms/step - loss: 0.0042 - acc: 0.9988 - val_loss: 0.0100 - val_acc: 0.9966\n",
      "\n",
      "Epoch 00017: ReduceLROnPlateau reducing learning rate to 0.00012960000021848827.\n",
      "\n",
      "Epoch 00017: val_acc did not improve from 0.99714\n",
      "Epoch 18/36\n",
      "123/123 [==============================] - 12s 97ms/step - loss: 0.0029 - acc: 0.9989 - val_loss: 0.0083 - val_acc: 0.9983\n",
      "\n",
      "Epoch 00018: val_acc improved from 0.99714 to 0.99829, saving model to weights_resnet.hdf5\n",
      "Epoch 19/36\n",
      "123/123 [==============================] - 12s 97ms/step - loss: 0.0180 - acc: 0.9974 - val_loss: 0.0051 - val_acc: 0.9971\n",
      "\n",
      "Epoch 00019: val_acc did not improve from 0.99829\n",
      "Epoch 20/36\n",
      "123/123 [==============================] - 12s 97ms/step - loss: 0.0189 - acc: 0.9955 - val_loss: 0.0127 - val_acc: 0.9966\n",
      "\n",
      "Epoch 00020: val_acc did not improve from 0.99829\n",
      "Epoch 21/36\n",
      "123/123 [==============================] - 12s 95ms/step - loss: 0.0219 - acc: 0.9966 - val_loss: 0.0157 - val_acc: 0.9954\n",
      "\n",
      "Epoch 00021: ReduceLROnPlateau reducing learning rate to 7.775999838486313e-05.\n",
      "\n",
      "Epoch 00021: val_acc did not improve from 0.99829\n",
      "Epoch 22/36\n",
      "123/123 [==============================] - 11s 93ms/step - loss: 0.0038 - acc: 0.9989 - val_loss: 0.0110 - val_acc: 0.9960\n",
      "\n",
      "Epoch 00022: val_acc did not improve from 0.99829\n",
      "Epoch 23/36\n",
      "123/123 [==============================] - 11s 92ms/step - loss: 0.0017 - acc: 0.9995 - val_loss: 0.0097 - val_acc: 0.9971\n",
      "\n",
      "Epoch 00023: val_acc did not improve from 0.99829\n",
      "Epoch 24/36\n",
      "123/123 [==============================] - 12s 94ms/step - loss: 0.0026 - acc: 0.9990 - val_loss: 0.0080 - val_acc: 0.9971\n",
      "\n",
      "Epoch 00024: val_acc did not improve from 0.99829\n",
      "Epoch 25/36\n",
      "123/123 [==============================] - 11s 93ms/step - loss: 0.0019 - acc: 0.9992 - val_loss: 0.0059 - val_acc: 0.9977\n",
      "\n",
      "Epoch 00025: ReduceLROnPlateau reducing learning rate to 4.6655999904032795e-05.\n",
      "\n",
      "Epoch 00025: val_acc did not improve from 0.99829\n",
      "Epoch 26/36\n",
      "123/123 [==============================] - 11s 93ms/step - loss: 7.4067e-04 - acc: 0.9997 - val_loss: 0.0060 - val_acc: 0.9983\n",
      "\n",
      "Epoch 00026: val_acc did not improve from 0.99829\n",
      "Epoch 27/36\n",
      "123/123 [==============================] - 11s 91ms/step - loss: 0.0011 - acc: 0.9996 - val_loss: 0.0108 - val_acc: 0.9971\n",
      "\n",
      "Epoch 00027: val_acc did not improve from 0.99829\n",
      "Epoch 28/36\n",
      "123/123 [==============================] - 11s 90ms/step - loss: 0.0017 - acc: 0.9994 - val_loss: 0.0111 - val_acc: 0.9971\n",
      "\n",
      "Epoch 00028: val_acc did not improve from 0.99829\n",
      "Epoch 29/36\n",
      "123/123 [==============================] - 11s 90ms/step - loss: 0.0016 - acc: 0.9994 - val_loss: 0.0086 - val_acc: 0.9977\n",
      "\n",
      "Epoch 00029: ReduceLROnPlateau reducing learning rate to 2.799360081553459e-05.\n",
      "\n",
      "Epoch 00029: val_acc did not improve from 0.99829\n",
      "Epoch 30/36\n",
      "123/123 [==============================] - 11s 89ms/step - loss: 0.0107 - acc: 0.9977 - val_loss: 0.0096 - val_acc: 0.9960\n",
      "\n",
      "Epoch 00030: val_acc did not improve from 0.99829\n",
      "Epoch 31/36\n",
      "123/123 [==============================] - 11s 89ms/step - loss: 0.0243 - acc: 0.9969 - val_loss: 0.0070 - val_acc: 0.9983\n",
      "\n",
      "Epoch 00031: val_acc did not improve from 0.99829\n",
      "Epoch 32/36\n",
      "123/123 [==============================] - 11s 89ms/step - loss: 0.0046 - acc: 0.9981 - val_loss: 0.0082 - val_acc: 0.9977\n",
      "\n",
      "Epoch 00032: val_acc did not improve from 0.99829\n",
      "Epoch 33/36\n",
      "123/123 [==============================] - 11s 88ms/step - loss: 0.0016 - acc: 0.9994 - val_loss: 0.0077 - val_acc: 0.9977\n",
      "\n",
      "Epoch 00033: ReduceLROnPlateau reducing learning rate to 1.6796160707599483e-05.\n",
      "\n",
      "Epoch 00033: val_acc did not improve from 0.99829\n",
      "Epoch 34/36\n",
      "123/123 [==============================] - 11s 88ms/step - loss: 0.0310 - acc: 0.9968 - val_loss: 0.0057 - val_acc: 0.9983\n",
      "\n",
      "Epoch 00034: val_acc did not improve from 0.99829\n",
      "Epoch 35/36\n",
      "123/123 [==============================] - 11s 88ms/step - loss: 0.0220 - acc: 0.9980 - val_loss: 0.0055 - val_acc: 0.9977\n",
      "\n",
      "Epoch 00035: val_acc did not improve from 0.99829\n",
      "Epoch 36/36\n",
      "123/123 [==============================] - 11s 87ms/step - loss: 0.0018 - acc: 0.9997 - val_loss: 0.0041 - val_acc: 0.9994\n",
      "\n",
      "Epoch 00036: val_acc improved from 0.99829 to 0.99943, saving model to weights_resnet.hdf5\n"
     ]
    }
   ],
   "source": [
    "from keras.preprocessing.image import ImageDataGenerator\n",
    "from keras.callbacks import ModelCheckpoint\n",
    "\n",
    "batch_size = 128\n",
    "epochs = 36\n",
    "\n",
    "filepath=\"weights_resnet.hdf5\"\n",
    "\n",
    "checkpoint = ModelCheckpoint(filepath, monitor='val_acc', verbose=1, save_best_only=True, mode='max')\n",
    "learning_rate_reduce = ReduceLROnPlateau(monitor='val_loss', factor=0.6, patience=4, verbose=1, mode='max', min_delta=0.0, cooldown=0, min_lr=0)\n",
    "early_stop = EarlyStopping(monitor='val_acc', min_delta=0.0001, patience=25, verbose=1, mode='max', baseline=None, restore_best_weights=True)\n",
    "\n",
    "train_datagen = ImageDataGenerator(\n",
    "    rotation_range=40,\n",
    "    zoom_range=0.1,\n",
    "    vertical_flip=True,\n",
    "    horizontal_flip=True)\n",
    "\n",
    "train_datagen.fit(xtrain_arr)\n",
    "history = model.fit_generator(\n",
    "    train_datagen.flow(xtrain_arr, y_train, batch_size=batch_size),\n",
    "    steps_per_epoch=x_train.shape[0] // batch_size,\n",
    "    epochs=epochs,\n",
    "    validation_data=(xtest_arr, y_test),\n",
    "    callbacks=[learning_rate_reduce, checkpoint] \n",
    ")"
   ]
  },
  {
   "cell_type": "code",
   "execution_count": 41,
   "metadata": {},
   "outputs": [
    {
     "name": "stdout",
     "output_type": "stream",
     "text": []
    },
    {
     "name": "stdout",
     "output_type": "stream",
     "text": [
      "15750/15750 [==============================] - 8s 514us/step\n",
      "1750/1750 [==============================] - 1s 526us/step\n"
     ]
    }
   ],
   "source": [
    "from sklearn.metrics import confusion_matrix, roc_auc_score\n",
    "train_pred = model.predict(xtrain_arr, verbose= 1)\n",
    "valid_pred = model.predict(xtest_arr, verbose= 1)\n",
    "\n",
    "train_acc = roc_auc_score(np.round(train_pred), y_train)\n",
    "valid_acc = roc_auc_score(np.round(valid_pred), y_test)"
   ]
  },
  {
   "cell_type": "code",
   "execution_count": 42,
   "metadata": {},
   "outputs": [
    {
     "data": {
      "text/plain": [
       "array([[ 446,    0],\n",
       "       [   1, 1303]], dtype=int64)"
      ]
     },
     "execution_count": 42,
     "metadata": {},
     "output_type": "execute_result"
    }
   ],
   "source": [
    "confusion_matrix(np.round(valid_pred), y_test)"
   ]
  },
  {
   "cell_type": "code",
   "execution_count": 43,
   "metadata": {},
   "outputs": [],
   "source": [
    "sample = pd.read_csv('./sample_submission.csv')"
   ]
  },
  {
   "cell_type": "code",
   "execution_count": 44,
   "metadata": {},
   "outputs": [
    {
     "name": "stderr",
     "output_type": "stream",
     "text": [
      "100%|█████████████████████████████████████████████████████████████████████████████| 4000/4000 [00:20<00:00, 194.10it/s]\n"
     ]
    }
   ],
   "source": [
    "test = []\n",
    "for images in tqdm.tqdm(sample['id']):\n",
    "    img = plt.imread('./test/' + images)\n",
    "    test.append(img)\n",
    "\n",
    "test = np.array(test)\n",
    "test = test/255"
   ]
  },
  {
   "cell_type": "code",
   "execution_count": 45,
   "metadata": {},
   "outputs": [
    {
     "name": "stdout",
     "output_type": "stream",
     "text": []
    },
    {
     "name": "stdout",
     "output_type": "stream",
     "text": [
      "4000/4000 [==============================] - 2s 535us/step\n"
     ]
    }
   ],
   "source": [
    "test_pred = model.predict(test, verbose= 1)"
   ]
  },
  {
   "cell_type": "code",
   "execution_count": 46,
   "metadata": {},
   "outputs": [
    {
     "data": {
      "text/html": [
       "<div>\n",
       "<style scoped>\n",
       "    .dataframe tbody tr th:only-of-type {\n",
       "        vertical-align: middle;\n",
       "    }\n",
       "\n",
       "    .dataframe tbody tr th {\n",
       "        vertical-align: top;\n",
       "    }\n",
       "\n",
       "    .dataframe thead th {\n",
       "        text-align: right;\n",
       "    }\n",
       "</style>\n",
       "<table border=\"1\" class=\"dataframe\">\n",
       "  <thead>\n",
       "    <tr style=\"text-align: right;\">\n",
       "      <th></th>\n",
       "      <th>id</th>\n",
       "      <th>has_cactus</th>\n",
       "    </tr>\n",
       "  </thead>\n",
       "  <tbody>\n",
       "    <tr>\n",
       "      <th>0</th>\n",
       "      <td>000940378805c44108d287872b2f04ce.jpg</td>\n",
       "      <td>9.999691e-01</td>\n",
       "    </tr>\n",
       "    <tr>\n",
       "      <th>1</th>\n",
       "      <td>0017242f54ececa4512b4d7937d1e21e.jpg</td>\n",
       "      <td>9.999769e-01</td>\n",
       "    </tr>\n",
       "    <tr>\n",
       "      <th>2</th>\n",
       "      <td>001ee6d8564003107853118ab87df407.jpg</td>\n",
       "      <td>6.044542e-06</td>\n",
       "    </tr>\n",
       "    <tr>\n",
       "      <th>3</th>\n",
       "      <td>002e175c3c1e060769475f52182583d0.jpg</td>\n",
       "      <td>2.758825e-07</td>\n",
       "    </tr>\n",
       "    <tr>\n",
       "      <th>4</th>\n",
       "      <td>0036e44a7e8f7218e9bc7bf8137e4943.jpg</td>\n",
       "      <td>9.999669e-01</td>\n",
       "    </tr>\n",
       "  </tbody>\n",
       "</table>\n",
       "</div>"
      ],
      "text/plain": [
       "                                     id    has_cactus\n",
       "0  000940378805c44108d287872b2f04ce.jpg  9.999691e-01\n",
       "1  0017242f54ececa4512b4d7937d1e21e.jpg  9.999769e-01\n",
       "2  001ee6d8564003107853118ab87df407.jpg  6.044542e-06\n",
       "3  002e175c3c1e060769475f52182583d0.jpg  2.758825e-07\n",
       "4  0036e44a7e8f7218e9bc7bf8137e4943.jpg  9.999669e-01"
      ]
     },
     "execution_count": 46,
     "metadata": {},
     "output_type": "execute_result"
    }
   ],
   "source": [
    "sample['has_cactus'] = test_pred\n",
    "sample.head()"
   ]
  },
  {
   "cell_type": "code",
   "execution_count": 47,
   "metadata": {},
   "outputs": [],
   "source": [
    "sample.to_csv('sub.csv', index= False)"
   ]
  },
  {
   "cell_type": "code",
   "execution_count": null,
   "metadata": {},
   "outputs": [],
   "source": []
  }
 ],
 "metadata": {
  "kernelspec": {
   "display_name": "Python 3",
   "language": "python",
   "name": "python3"
  },
  "language_info": {
   "codemirror_mode": {
    "name": "ipython",
    "version": 3
   },
   "file_extension": ".py",
   "mimetype": "text/x-python",
   "name": "python",
   "nbconvert_exporter": "python",
   "pygments_lexer": "ipython3",
   "version": "3.6.6"
  }
 },
 "nbformat": 4,
 "nbformat_minor": 2
}
